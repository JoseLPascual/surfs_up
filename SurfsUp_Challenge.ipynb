{
 "cells": [
  {
   "cell_type": "code",
   "execution_count": 1,
   "metadata": {},
   "outputs": [],
   "source": [
    "# Dependencies\n",
    "import numpy as np\n",
    "import datetime as dt\n",
    "import pandas as pd\n",
    "\n",
    "# Python SQL toolkit and Object Relational Mapper\n",
    "import sqlalchemy\n",
    "from sqlalchemy.ext.automap import automap_base\n",
    "from sqlalchemy.orm import Session\n",
    "from sqlalchemy import create_engine, func"
   ]
  },
  {
   "cell_type": "code",
   "execution_count": 2,
   "metadata": {},
   "outputs": [],
   "source": [
    "engine = create_engine(\"sqlite:///hawaii.sqlite\")\n",
    "\n",
    "# reflect an existing database into a new model\n",
    "Base = automap_base()\n",
    "# reflect the tables\n",
    "Base.prepare(engine, reflect=True)\n",
    "\n",
    "# Save references to each table\n",
    "Measurement = Base.classes.measurement\n",
    "Station = Base.classes.station"
   ]
  },
  {
   "cell_type": "code",
   "execution_count": 3,
   "metadata": {},
   "outputs": [],
   "source": [
    "# Create our session (link) from Python to the DB\n",
    "session = Session(engine)"
   ]
  },
  {
   "cell_type": "markdown",
   "metadata": {},
   "source": [
    "## D1: Determine the Summary Statistics for June"
   ]
  },
  {
   "cell_type": "code",
   "execution_count": 4,
   "metadata": {},
   "outputs": [],
   "source": [
    "# 1. Import the sqlalchemy extract function.\n",
    "from sqlalchemy import extract\n",
    "\n",
    "# 2. Write a query that filters the Measurement table to retrieve the temperatures for the month of June.\n",
    "june_0 = dt.date(2010, 6, 30)\n",
    "before_june_0 = dt.date(2010, 6, 1)\n",
    "june_1 = dt.date(2011, 6, 30)\n",
    "before_june_1 = dt.date(2011, 6, 1)\n",
    "june_2 = dt.date(2012, 6, 30)\n",
    "before_june_2 = dt.date(2012, 6, 1)\n",
    "june_3 = dt.date(2013, 6, 30)\n",
    "before_june_3 = dt.date(2013, 6, 1)\n",
    "june_4 = dt.date(2014, 6, 30)\n",
    "before_june_4 = dt.date(2014, 6, 1)\n",
    "june_5 = dt.date(2015, 6, 30)\n",
    "before_june_5 = dt.date(2015, 6, 1)\n",
    "june_6 = dt.date(2016, 6, 30)\n",
    "before_june_6 = dt.date(2016, 6, 1)\n",
    "june_7 = dt.date(2017, 6, 30)\n",
    "before_june_7 = dt.date(2017, 6, 1)"
   ]
  },
  {
   "cell_type": "code",
   "execution_count": 5,
   "metadata": {},
   "outputs": [],
   "source": [
    "# 3. Convert the June temperatures to a list.\n",
    "results_0 = session.query(Measurement.date, Measurement.tobs).filter(Measurement.date <= june_0, Measurement.date >= before_june_0).all()\n",
    "results_1 = session.query(Measurement.date, Measurement.tobs).filter(Measurement.date <= june_1, Measurement.date >= before_june_1).all()\n",
    "results_2 = session.query(Measurement.date, Measurement.tobs).filter(Measurement.date <= june_2, Measurement.date >= before_june_2).all()\n",
    "results_3 = session.query(Measurement.date, Measurement.tobs).filter(Measurement.date <= june_3, Measurement.date >= before_june_3).all()\n",
    "results_4 = session.query(Measurement.date, Measurement.tobs).filter(Measurement.date <= june_4, Measurement.date >= before_june_4).all()\n",
    "results_5 = session.query(Measurement.date, Measurement.tobs).filter(Measurement.date <= june_5, Measurement.date >= before_june_5).all()\n",
    "results_6 = session.query(Measurement.date, Measurement.tobs).filter(Measurement.date <= june_6, Measurement.date >= before_june_6).all()\n",
    "results_7 = session.query(Measurement.date, Measurement.tobs).filter(Measurement.date <= june_7, Measurement.date >= before_june_7).all()"
   ]
  },
  {
   "cell_type": "code",
   "execution_count": 6,
   "metadata": {},
   "outputs": [],
   "source": [
    "# 4. Create a DataFrame from the list of temperatures for the month of June. \n",
    "df0 = pd.DataFrame(results_0, columns=['June','June Temps'])\n",
    "df1 = pd.DataFrame(results_1, columns=['June','June Temps'])\n",
    "df2 = pd.DataFrame(results_0, columns=['June','June Temps'])\n",
    "df3 = pd.DataFrame(results_1, columns=['June','June Temps'])\n",
    "df4 = pd.DataFrame(results_0, columns=['June','June Temps'])\n",
    "df5 = pd.DataFrame(results_1, columns=['June','June Temps'])\n",
    "df6 = pd.DataFrame(results_0, columns=['June','June Temps'])\n",
    "df7 = pd.DataFrame(results_1, columns=['June','June Temps'])\n",
    "dfa = df0.append(df1)\n",
    "dfb = df2.append(df3)\n",
    "dfc = df4.append(df5)\n",
    "dfd = df6.append(df7)\n",
    "dfe = dfa.append(dfb)\n",
    "dff = dfc.append(dfd)\n",
    "df = dfa.append(dfc)\n",
    "df.set_index(df['June'], inplace=True)"
   ]
  },
  {
   "cell_type": "code",
   "execution_count": 7,
   "metadata": {},
   "outputs": [
    {
     "data": {
      "text/html": [
       "<div>\n",
       "<style scoped>\n",
       "    .dataframe tbody tr th:only-of-type {\n",
       "        vertical-align: middle;\n",
       "    }\n",
       "\n",
       "    .dataframe tbody tr th {\n",
       "        vertical-align: top;\n",
       "    }\n",
       "\n",
       "    .dataframe thead th {\n",
       "        text-align: right;\n",
       "    }\n",
       "</style>\n",
       "<table border=\"1\" class=\"dataframe\">\n",
       "  <thead>\n",
       "    <tr style=\"text-align: right;\">\n",
       "      <th></th>\n",
       "      <th>June Temps</th>\n",
       "    </tr>\n",
       "  </thead>\n",
       "  <tbody>\n",
       "    <tr>\n",
       "      <th>count</th>\n",
       "      <td>938.000000</td>\n",
       "    </tr>\n",
       "    <tr>\n",
       "      <th>mean</th>\n",
       "      <td>74.447761</td>\n",
       "    </tr>\n",
       "    <tr>\n",
       "      <th>std</th>\n",
       "      <td>2.883719</td>\n",
       "    </tr>\n",
       "    <tr>\n",
       "      <th>min</th>\n",
       "      <td>65.000000</td>\n",
       "    </tr>\n",
       "    <tr>\n",
       "      <th>25%</th>\n",
       "      <td>73.000000</td>\n",
       "    </tr>\n",
       "    <tr>\n",
       "      <th>50%</th>\n",
       "      <td>75.000000</td>\n",
       "    </tr>\n",
       "    <tr>\n",
       "      <th>75%</th>\n",
       "      <td>76.000000</td>\n",
       "    </tr>\n",
       "    <tr>\n",
       "      <th>max</th>\n",
       "      <td>85.000000</td>\n",
       "    </tr>\n",
       "  </tbody>\n",
       "</table>\n",
       "</div>"
      ],
      "text/plain": [
       "       June Temps\n",
       "count  938.000000\n",
       "mean    74.447761\n",
       "std      2.883719\n",
       "min     65.000000\n",
       "25%     73.000000\n",
       "50%     75.000000\n",
       "75%     76.000000\n",
       "max     85.000000"
      ]
     },
     "execution_count": 7,
     "metadata": {},
     "output_type": "execute_result"
    }
   ],
   "source": [
    "# 5. Calculate and print out the summary statistics for the June temperature DataFrame.\n",
    "df.describe()"
   ]
  },
  {
   "cell_type": "markdown",
   "metadata": {},
   "source": [
    "## D2: Determine the Summary Statistics for December"
   ]
  },
  {
   "cell_type": "code",
   "execution_count": 8,
   "metadata": {},
   "outputs": [],
   "source": [
    "# 6. Write a query that filters the Measurement table to retrieve the temperatures for the month of December.\n",
    "december_0 = dt.date(2010, 12, 31)\n",
    "before_december_0 = dt.date(2010, 12, 1)\n",
    "december_1 = dt.date(2011, 12, 31)\n",
    "before_december_1 = dt.date(2011, 12, 1)\n",
    "december_2 = dt.date(2012, 12, 31)\n",
    "before_december_2 = dt.date(2012, 12, 1)\n",
    "december_3 = dt.date(2013, 12, 31)\n",
    "before_december_3 = dt.date(2013, 12, 1)\n",
    "december_4 = dt.date(2014, 12, 31)\n",
    "before_december_4 = dt.date(2014, 12, 1)\n",
    "december_5 = dt.date(2015, 12, 31)\n",
    "before_december_5 = dt.date(2015, 12, 1)\n",
    "december_6 = dt.date(2016, 12, 31)\n",
    "before_december_6 = dt.date(2016, 12, 1)\n",
    "december_7 = dt.date(2017, 12, 31)\n",
    "before_december_7 = dt.date(2017, 12, 1)"
   ]
  },
  {
   "cell_type": "code",
   "execution_count": 9,
   "metadata": {},
   "outputs": [],
   "source": [
    "# 7. Convert the December temperatures to a list.\n",
    "results_0 = session.query(Measurement.date, Measurement.tobs).filter(Measurement.date <= december_0, Measurement.date >= before_december_0).all()\n",
    "results_1 = session.query(Measurement.date, Measurement.tobs).filter(Measurement.date <= december_1, Measurement.date >= before_december_1).all()\n",
    "results_2 = session.query(Measurement.date, Measurement.tobs).filter(Measurement.date <= december_2, Measurement.date >= before_december_2).all()\n",
    "results_3 = session.query(Measurement.date, Measurement.tobs).filter(Measurement.date <= december_3, Measurement.date >= before_december_3).all()\n",
    "results_4 = session.query(Measurement.date, Measurement.tobs).filter(Measurement.date <= december_4, Measurement.date >= before_december_4).all()\n",
    "results_5 = session.query(Measurement.date, Measurement.tobs).filter(Measurement.date <= december_5, Measurement.date >= before_december_5).all()\n",
    "results_6 = session.query(Measurement.date, Measurement.tobs).filter(Measurement.date <= december_6, Measurement.date >= before_december_6).all()\n",
    "results_7 = session.query(Measurement.date, Measurement.tobs).filter(Measurement.date <= december_7, Measurement.date >= before_december_7).all()"
   ]
  },
  {
   "cell_type": "code",
   "execution_count": 10,
   "metadata": {},
   "outputs": [],
   "source": [
    "# 8. Create a DataFrame from the list of temperatures for the month of December. \n",
    "df0 = pd.DataFrame(results_0, columns=['December','December Temps'])\n",
    "df1 = pd.DataFrame(results_1, columns=['December','December Temps'])\n",
    "df2 = pd.DataFrame(results_0, columns=['December','December Temps'])\n",
    "df3 = pd.DataFrame(results_1, columns=['December','December Temps'])\n",
    "df4 = pd.DataFrame(results_0, columns=['December','December Temps'])\n",
    "df5 = pd.DataFrame(results_1, columns=['December','December Temps'])\n",
    "df6 = pd.DataFrame(results_0, columns=['December','December Temps'])\n",
    "df7 = pd.DataFrame(results_1, columns=['December','December Temps'])\n",
    "dfa = df0.append(df1)\n",
    "dfb = df2.append(df3)\n",
    "dfc = df4.append(df5)\n",
    "dfd = df6.append(df7)\n",
    "dfe = dfa.append(dfb)\n",
    "dff = dfc.append(dfd)\n",
    "df = dfa.append(dfc)\n",
    "df.set_index(df['December'], inplace=True)"
   ]
  },
  {
   "cell_type": "code",
   "execution_count": 11,
   "metadata": {},
   "outputs": [
    {
     "data": {
      "text/html": [
       "<div>\n",
       "<style scoped>\n",
       "    .dataframe tbody tr th:only-of-type {\n",
       "        vertical-align: middle;\n",
       "    }\n",
       "\n",
       "    .dataframe tbody tr th {\n",
       "        vertical-align: top;\n",
       "    }\n",
       "\n",
       "    .dataframe thead th {\n",
       "        text-align: right;\n",
       "    }\n",
       "</style>\n",
       "<table border=\"1\" class=\"dataframe\">\n",
       "  <thead>\n",
       "    <tr style=\"text-align: right;\">\n",
       "      <th></th>\n",
       "      <th>December Temps</th>\n",
       "    </tr>\n",
       "  </thead>\n",
       "  <tbody>\n",
       "    <tr>\n",
       "      <th>count</th>\n",
       "      <td>916.000000</td>\n",
       "    </tr>\n",
       "    <tr>\n",
       "      <th>mean</th>\n",
       "      <td>70.506550</td>\n",
       "    </tr>\n",
       "    <tr>\n",
       "      <th>std</th>\n",
       "      <td>3.271496</td>\n",
       "    </tr>\n",
       "    <tr>\n",
       "      <th>min</th>\n",
       "      <td>58.000000</td>\n",
       "    </tr>\n",
       "    <tr>\n",
       "      <th>25%</th>\n",
       "      <td>69.000000</td>\n",
       "    </tr>\n",
       "    <tr>\n",
       "      <th>50%</th>\n",
       "      <td>71.000000</td>\n",
       "    </tr>\n",
       "    <tr>\n",
       "      <th>75%</th>\n",
       "      <td>73.000000</td>\n",
       "    </tr>\n",
       "    <tr>\n",
       "      <th>max</th>\n",
       "      <td>80.000000</td>\n",
       "    </tr>\n",
       "  </tbody>\n",
       "</table>\n",
       "</div>"
      ],
      "text/plain": [
       "       December Temps\n",
       "count      916.000000\n",
       "mean        70.506550\n",
       "std          3.271496\n",
       "min         58.000000\n",
       "25%         69.000000\n",
       "50%         71.000000\n",
       "75%         73.000000\n",
       "max         80.000000"
      ]
     },
     "execution_count": 11,
     "metadata": {},
     "output_type": "execute_result"
    }
   ],
   "source": [
    "# 9. Calculate and print out the summary statistics for the Decemeber temperature DataFrame.\n",
    "df.describe()"
   ]
  },
  {
   "cell_type": "code",
   "execution_count": null,
   "metadata": {},
   "outputs": [],
   "source": []
  }
 ],
 "metadata": {
  "kernelspec": {
   "display_name": "PythonData",
   "language": "python",
   "name": "pythondata"
  },
  "language_info": {
   "codemirror_mode": {
    "name": "ipython",
    "version": 3
   },
   "file_extension": ".py",
   "mimetype": "text/x-python",
   "name": "python",
   "nbconvert_exporter": "python",
   "pygments_lexer": "ipython3",
   "version": "3.7.6"
  }
 },
 "nbformat": 4,
 "nbformat_minor": 2
}
